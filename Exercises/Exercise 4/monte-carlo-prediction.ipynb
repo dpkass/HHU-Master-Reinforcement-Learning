{
 "cells": [
  {
   "attachments": {},
   "cell_type": "markdown",
   "metadata": {},
   "source": [
    "# Reinforcement Learning\n",
    "Prof. Milica Gašić"
   ]
  },
  {
   "attachments": {},
   "cell_type": "markdown",
   "metadata": {},
   "source": [
    "### Monte Carlo prediction\n",
    "\n",
    "The idea of Monte Carlo prediction is very simple: Estimate the value (or the action value) by averating the observed returns from collected episodes. In this notebook we apply Monte Carlo prediction to the game of tic-tac-toe."
   ]
  },
  {
   "attachments": {},
   "cell_type": "markdown",
   "metadata": {},
   "source": [
    "#### Implementation\n",
    "\n",
    "Make sure that the file `rl_env.py` is in the same folder as the notebook."
   ]
  },
  {
   "cell_type": "code",
   "metadata": {
    "ExecuteTime": {
     "end_time": "2024-11-14T14:36:26.319142Z",
     "start_time": "2024-11-14T14:36:26.186636Z"
    }
   },
   "source": [
    "%load_ext autoreload\n",
    "%autoreload 2\n",
    "\n",
    "import numpy as np\n",
    "import rl_env"
   ],
   "outputs": [],
   "execution_count": 1
  },
  {
   "attachments": {},
   "cell_type": "markdown",
   "metadata": {},
   "source": [
    "We already implemented tic-tac-toe in `TicTacToeEnv`:\n",
    "- The environment has $3^9 = 19683$ states (9 fields with 3 values: empty, player 1, player 2).\n",
    "- There are $9$ possible actions, which determine the next move of the current player (i.e. the actions control both players).\n",
    "- The final reward is $1$ if player 1 wins, and $0$ if player 2 wins or when there is a draw. The reward is $0$ in all other time steps."
   ]
  },
  {
   "cell_type": "code",
   "metadata": {
    "ExecuteTime": {
     "end_time": "2024-11-14T14:36:26.336786Z",
     "start_time": "2024-11-14T14:36:26.321542Z"
    }
   },
   "source": [
    "# Create an instance of the tic-tac-toe environment\n",
    "env = rl_env.TicTacToeEnv()"
   ],
   "outputs": [],
   "execution_count": 2
  },
  {
   "attachments": {},
   "cell_type": "markdown",
   "metadata": {},
   "source": [
    "We already implemented the random policy for the tic-tac-toe environment:"
   ]
  },
  {
   "cell_type": "code",
   "metadata": {
    "ExecuteTime": {
     "end_time": "2024-11-14T14:36:26.350086Z",
     "start_time": "2024-11-14T14:36:26.338940Z"
    }
   },
   "source": [
    "def random_policy(state):\n",
    "    # Obtain the list of empty fields\n",
    "    valid_actions = rl_env.TicTacToeEnv.get_valid_actions(state)\n",
    "    # Select one of the empty fields randomly\n",
    "    # For non-empty fields, the action does not have an effect\n",
    "    action = np.random.choice(valid_actions)\n",
    "    return action"
   ],
   "outputs": [],
   "execution_count": 3
  },
  {
   "attachments": {},
   "cell_type": "markdown",
   "metadata": {},
   "source": [
    "Your task is to implement Monte Carlo prediction of the action value for the **initial state**, i.e. you don't need to compute the action values for all states, but only the $9$ action values for the initial state.  \n",
    "We don't need a discount factor, so the initial return is equal to the final reward.\n",
    "\n",
    "You don't need an `Agent` object for this implementation, just generate episodes and estimate the action values."
   ]
  },
  {
   "cell_type": "code",
   "metadata": {
    "ExecuteTime": {
     "end_time": "2024-11-14T14:36:30.339792Z",
     "start_time": "2024-11-14T14:36:26.352775Z"
    }
   },
   "source": [
    "#######################################################################\n",
    "# TODO: Implement Monte Carlo prediction of the action value function #\n",
    "# for the initial state as described above. Generate at least 10000   #\n",
    "# episodes to estimate the action values.                             #\n",
    "#######################################################################\n",
    "\n",
    "def generate_episode():\n",
    "    s, _ = env.reset()\n",
    "    episode = [s]\n",
    "    terminated = False\n",
    "\n",
    "    while not terminated:\n",
    "        a = random_policy(s)\n",
    "        s, r, terminated, *_ = env.step(a)\n",
    "        episode.append((a, r, s))\n",
    "\n",
    "    return episode\n",
    "\n",
    "\n",
    "v = np.zeros(9)\n",
    "n = np.zeros(9)\n",
    "for _ in range(10000):\n",
    "    episode = generate_episode()\n",
    "    _, (s, *_), *_, (_, g, _) = episode\n",
    "    n[s] += 1\n",
    "    v[s] += (g - v[s]) / n[s]\n",
    "\n",
    "v.reshape((3, 3))\n",
    "\n",
    "#######################################################################\n",
    "# End of your code.                                                   #\n",
    "#######################################################################"
   ],
   "outputs": [
    {
     "data": {
      "text/plain": [
       "array([[0.6460018 , 0.54954955, 0.59326661],\n",
       "       [0.52037037, 0.67857143, 0.51212938],\n",
       "       [0.59192825, 0.53027682, 0.64351005]])"
      ]
     },
     "execution_count": 4,
     "metadata": {},
     "output_type": "execute_result"
    }
   ],
   "execution_count": 4
  },
  {
   "attachments": {},
   "cell_type": "markdown",
   "metadata": {},
   "source": [
    "Since the reward is only $1$ if player 1 wins, the value of the initial state is equal to the winning probability of player 1.  \n",
    "Use this to answer the following questions:\n",
    "- What is the probability that the first player wins?\n",
    "- Which initial action has the highest chance of winning?"
   ]
  },
  {
   "cell_type": "code",
   "metadata": {
    "ExecuteTime": {
     "end_time": "2024-11-14T14:36:30.352714Z",
     "start_time": "2024-11-14T14:36:30.342074Z"
    }
   },
   "source": [
    "#######################################################################\n",
    "# TODO: Answer the questions by using the computed action values.     #\n",
    "#######################################################################\n",
    "v.max(), v.argmax()\n",
    "#######################################################################\n",
    "# End of your code.                                                   #\n",
    "#######################################################################"
   ],
   "outputs": [
    {
     "data": {
      "text/plain": [
       "(0.6785714285714286, 4)"
      ]
     },
     "execution_count": 5,
     "metadata": {},
     "output_type": "execute_result"
    }
   ],
   "execution_count": 5
  },
  {
   "metadata": {},
   "cell_type": "markdown",
   "source": "67.8% and center"
  }
 ],
 "metadata": {
  "kernelspec": {
   "display_name": "base",
   "language": "python",
   "name": "python3"
  },
  "language_info": {
   "codemirror_mode": {
    "name": "ipython",
    "version": 3
   },
   "file_extension": ".py",
   "mimetype": "text/x-python",
   "name": "python",
   "nbconvert_exporter": "python",
   "pygments_lexer": "ipython3",
   "version": "3.9.13"
  },
  "orig_nbformat": 4
 },
 "nbformat": 4,
 "nbformat_minor": 2
}
